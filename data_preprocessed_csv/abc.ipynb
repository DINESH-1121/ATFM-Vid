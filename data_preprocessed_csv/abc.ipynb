{
 "cells": [
  {
   "cell_type": "code",
   "execution_count": 8,
   "metadata": {},
   "outputs": [
    {
     "data": {
      "text/plain": [
       "array(['AT76', 'A20N', 'A320', 'A21N', 'DH8D', 'A321', 'B738', 'A333',\n",
       "       'B38M', 'B739', 'B737', 'E145', 'A332', 'A319', 'B77L', 'B744',\n",
       "       'B77W', 'B788', 'B789', 'B78X', 'A359', 'B752', 'A35K', 'B772'],\n",
       "      dtype=object)"
      ]
     },
     "execution_count": 8,
     "metadata": {},
     "output_type": "execute_result"
    }
   ],
   "source": [
    "import numpy as np \n",
    "import pandas as pd \n",
    "df = pd.read_csv(\"./dp_hyd_arrival.csv\")\n",
    "df[\"AIRCRAFT\"].unique()"
   ]
  },
  {
   "cell_type": "code",
   "execution_count": null,
   "metadata": {},
   "outputs": [],
   "source": []
  }
 ],
 "metadata": {
  "kernelspec": {
   "display_name": "Python 3.8.3 32-bit",
   "language": "python",
   "name": "python3"
  },
  "language_info": {
   "codemirror_mode": {
    "name": "ipython",
    "version": 3
   },
   "file_extension": ".py",
   "mimetype": "text/x-python",
   "name": "python",
   "nbconvert_exporter": "python",
   "pygments_lexer": "ipython3",
   "version": "3.8.3"
  },
  "orig_nbformat": 4,
  "vscode": {
   "interpreter": {
    "hash": "ff9dc31487c834bded09122eb7e091e0c92818becf69b7caaa9c643ad9caa7d1"
   }
  }
 },
 "nbformat": 4,
 "nbformat_minor": 2
}
