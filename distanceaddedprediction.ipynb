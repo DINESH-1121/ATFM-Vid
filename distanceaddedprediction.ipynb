{
  "cells": [
    {
      "cell_type": "code",
      "execution_count": null,
      "metadata": {
        "id": "DtuhT3CwhIHD"
      },
      "outputs": [],
      "source": [
        "import pandas as pd\n",
        "import numpy as np\n",
        "from sklearn.preprocessing import OneHotEncoder\n",
        "from sklearn.compose import ColumnTransformer\n",
        "from sklearn.model_selection import train_test_split\n",
        "from sklearn.ensemble import AdaBoostRegressor\n",
        "from matplotlib import pyplot as plt"
      ]
    },
    {
      "cell_type": "code",
      "execution_count": null,
      "metadata": {
        "id": "0Qby9G4EkUZ3"
      },
      "outputs": [],
      "source": [
        "df = pd.read_csv(\"addeddistancehyddep.csv\")"
      ]
    },
    {
      "cell_type": "code",
      "execution_count": null,
      "metadata": {
        "id": "miUsK4qnkY8T"
      },
      "outputs": [],
      "source": [
        "# col = [\"AIRCRAFT\",\"FROM\",\"STD_MIN\",\"ATD_MIN\"]\n",
        "# # for c in col:\n",
        "# #   df = df[]\n",
        "df1 = df[[\"AIRCRAFT\",\"ORIGIN\",\"STD_MIN\",\"STA_MIN\",\"ATD_MIN\",\"Distance_km\"]].copy()\n",
        "# dummies=pd.get_dummies(df2[['AIRCRAFT','ORIGIN']])\n",
        "\n",
        "# dummies.head()"
      ]
    },
    {
      "cell_type": "code",
      "execution_count": null,
      "metadata": {
        "id": "UCHw_nKjkXRf"
      },
      "outputs": [],
      "source": [
        "# cat_features=['AIRCRAFT','ORIGIN']\n",
        "# one_hot=OneHotEncoder()\n",
        "# # transformer=ColumnTransformer() \n",
        "# one_hot.fit_transform"
      ]
    },
    {
      "cell_type": "code",
      "execution_count": null,
      "metadata": {
        "colab": {
          "base_uri": "https://localhost:8080/",
          "height": 299
        },
        "id": "2FRD8i0bnYfP",
        "outputId": "ab2eb029-33dd-4f1a-ce26-6011953b7419"
      },
      "outputs": [
        {
          "output_type": "execute_result",
          "data": {
            "text/plain": [
              "  AIRCRAFT ORIGIN     STD_MIN     STA_MIN     ATD_MIN  Distance_km    0    1  \\\n",
              "0     AT76    HYD  27809595.0  27809665.0  27809656.0   304.811415  0.0  0.0   \n",
              "1     AT76    HYD  27808155.0  27808225.0  27808256.0   304.811415  0.0  0.0   \n",
              "2     AT76    HYD  27805275.0  27805345.0  27805306.0   304.811415  0.0  0.0   \n",
              "3     AT76    HYD  27802395.0  27802465.0  27802422.0   304.811415  0.0  0.0   \n",
              "4     AT76    HYD  27800955.0  27801025.0  27800959.0   304.811415  0.0  0.0   \n",
              "\n",
              "     2    3  ...   73   74   75   76   77   78   79   80   81   82  \n",
              "0  0.0  0.0  ...  0.0  0.0  0.0  0.0  0.0  0.0  0.0  0.0  0.0  0.0  \n",
              "1  0.0  0.0  ...  0.0  0.0  0.0  0.0  0.0  0.0  0.0  0.0  0.0  0.0  \n",
              "2  0.0  0.0  ...  0.0  0.0  0.0  0.0  0.0  0.0  0.0  0.0  0.0  0.0  \n",
              "3  0.0  0.0  ...  0.0  0.0  0.0  0.0  0.0  0.0  0.0  0.0  0.0  0.0  \n",
              "4  0.0  0.0  ...  0.0  0.0  0.0  0.0  0.0  0.0  0.0  0.0  0.0  0.0  \n",
              "\n",
              "[5 rows x 89 columns]"
            ],
            "text/html": [
              "\n",
              "  <div id=\"df-1ac7883c-0e8d-4a0f-9f52-dd0ba992d4b0\">\n",
              "    <div class=\"colab-df-container\">\n",
              "      <div>\n",
              "<style scoped>\n",
              "    .dataframe tbody tr th:only-of-type {\n",
              "        vertical-align: middle;\n",
              "    }\n",
              "\n",
              "    .dataframe tbody tr th {\n",
              "        vertical-align: top;\n",
              "    }\n",
              "\n",
              "    .dataframe thead th {\n",
              "        text-align: right;\n",
              "    }\n",
              "</style>\n",
              "<table border=\"1\" class=\"dataframe\">\n",
              "  <thead>\n",
              "    <tr style=\"text-align: right;\">\n",
              "      <th></th>\n",
              "      <th>AIRCRAFT</th>\n",
              "      <th>ORIGIN</th>\n",
              "      <th>STD_MIN</th>\n",
              "      <th>STA_MIN</th>\n",
              "      <th>ATD_MIN</th>\n",
              "      <th>Distance_km</th>\n",
              "      <th>0</th>\n",
              "      <th>1</th>\n",
              "      <th>2</th>\n",
              "      <th>3</th>\n",
              "      <th>...</th>\n",
              "      <th>73</th>\n",
              "      <th>74</th>\n",
              "      <th>75</th>\n",
              "      <th>76</th>\n",
              "      <th>77</th>\n",
              "      <th>78</th>\n",
              "      <th>79</th>\n",
              "      <th>80</th>\n",
              "      <th>81</th>\n",
              "      <th>82</th>\n",
              "    </tr>\n",
              "  </thead>\n",
              "  <tbody>\n",
              "    <tr>\n",
              "      <th>0</th>\n",
              "      <td>AT76</td>\n",
              "      <td>HYD</td>\n",
              "      <td>27809595.0</td>\n",
              "      <td>27809665.0</td>\n",
              "      <td>27809656.0</td>\n",
              "      <td>304.811415</td>\n",
              "      <td>0.0</td>\n",
              "      <td>0.0</td>\n",
              "      <td>0.0</td>\n",
              "      <td>0.0</td>\n",
              "      <td>...</td>\n",
              "      <td>0.0</td>\n",
              "      <td>0.0</td>\n",
              "      <td>0.0</td>\n",
              "      <td>0.0</td>\n",
              "      <td>0.0</td>\n",
              "      <td>0.0</td>\n",
              "      <td>0.0</td>\n",
              "      <td>0.0</td>\n",
              "      <td>0.0</td>\n",
              "      <td>0.0</td>\n",
              "    </tr>\n",
              "    <tr>\n",
              "      <th>1</th>\n",
              "      <td>AT76</td>\n",
              "      <td>HYD</td>\n",
              "      <td>27808155.0</td>\n",
              "      <td>27808225.0</td>\n",
              "      <td>27808256.0</td>\n",
              "      <td>304.811415</td>\n",
              "      <td>0.0</td>\n",
              "      <td>0.0</td>\n",
              "      <td>0.0</td>\n",
              "      <td>0.0</td>\n",
              "      <td>...</td>\n",
              "      <td>0.0</td>\n",
              "      <td>0.0</td>\n",
              "      <td>0.0</td>\n",
              "      <td>0.0</td>\n",
              "      <td>0.0</td>\n",
              "      <td>0.0</td>\n",
              "      <td>0.0</td>\n",
              "      <td>0.0</td>\n",
              "      <td>0.0</td>\n",
              "      <td>0.0</td>\n",
              "    </tr>\n",
              "    <tr>\n",
              "      <th>2</th>\n",
              "      <td>AT76</td>\n",
              "      <td>HYD</td>\n",
              "      <td>27805275.0</td>\n",
              "      <td>27805345.0</td>\n",
              "      <td>27805306.0</td>\n",
              "      <td>304.811415</td>\n",
              "      <td>0.0</td>\n",
              "      <td>0.0</td>\n",
              "      <td>0.0</td>\n",
              "      <td>0.0</td>\n",
              "      <td>...</td>\n",
              "      <td>0.0</td>\n",
              "      <td>0.0</td>\n",
              "      <td>0.0</td>\n",
              "      <td>0.0</td>\n",
              "      <td>0.0</td>\n",
              "      <td>0.0</td>\n",
              "      <td>0.0</td>\n",
              "      <td>0.0</td>\n",
              "      <td>0.0</td>\n",
              "      <td>0.0</td>\n",
              "    </tr>\n",
              "    <tr>\n",
              "      <th>3</th>\n",
              "      <td>AT76</td>\n",
              "      <td>HYD</td>\n",
              "      <td>27802395.0</td>\n",
              "      <td>27802465.0</td>\n",
              "      <td>27802422.0</td>\n",
              "      <td>304.811415</td>\n",
              "      <td>0.0</td>\n",
              "      <td>0.0</td>\n",
              "      <td>0.0</td>\n",
              "      <td>0.0</td>\n",
              "      <td>...</td>\n",
              "      <td>0.0</td>\n",
              "      <td>0.0</td>\n",
              "      <td>0.0</td>\n",
              "      <td>0.0</td>\n",
              "      <td>0.0</td>\n",
              "      <td>0.0</td>\n",
              "      <td>0.0</td>\n",
              "      <td>0.0</td>\n",
              "      <td>0.0</td>\n",
              "      <td>0.0</td>\n",
              "    </tr>\n",
              "    <tr>\n",
              "      <th>4</th>\n",
              "      <td>AT76</td>\n",
              "      <td>HYD</td>\n",
              "      <td>27800955.0</td>\n",
              "      <td>27801025.0</td>\n",
              "      <td>27800959.0</td>\n",
              "      <td>304.811415</td>\n",
              "      <td>0.0</td>\n",
              "      <td>0.0</td>\n",
              "      <td>0.0</td>\n",
              "      <td>0.0</td>\n",
              "      <td>...</td>\n",
              "      <td>0.0</td>\n",
              "      <td>0.0</td>\n",
              "      <td>0.0</td>\n",
              "      <td>0.0</td>\n",
              "      <td>0.0</td>\n",
              "      <td>0.0</td>\n",
              "      <td>0.0</td>\n",
              "      <td>0.0</td>\n",
              "      <td>0.0</td>\n",
              "      <td>0.0</td>\n",
              "    </tr>\n",
              "  </tbody>\n",
              "</table>\n",
              "<p>5 rows × 89 columns</p>\n",
              "</div>\n",
              "      <button class=\"colab-df-convert\" onclick=\"convertToInteractive('df-1ac7883c-0e8d-4a0f-9f52-dd0ba992d4b0')\"\n",
              "              title=\"Convert this dataframe to an interactive table.\"\n",
              "              style=\"display:none;\">\n",
              "        \n",
              "  <svg xmlns=\"http://www.w3.org/2000/svg\" height=\"24px\"viewBox=\"0 0 24 24\"\n",
              "       width=\"24px\">\n",
              "    <path d=\"M0 0h24v24H0V0z\" fill=\"none\"/>\n",
              "    <path d=\"M18.56 5.44l.94 2.06.94-2.06 2.06-.94-2.06-.94-.94-2.06-.94 2.06-2.06.94zm-11 1L8.5 8.5l.94-2.06 2.06-.94-2.06-.94L8.5 2.5l-.94 2.06-2.06.94zm10 10l.94 2.06.94-2.06 2.06-.94-2.06-.94-.94-2.06-.94 2.06-2.06.94z\"/><path d=\"M17.41 7.96l-1.37-1.37c-.4-.4-.92-.59-1.43-.59-.52 0-1.04.2-1.43.59L10.3 9.45l-7.72 7.72c-.78.78-.78 2.05 0 2.83L4 21.41c.39.39.9.59 1.41.59.51 0 1.02-.2 1.41-.59l7.78-7.78 2.81-2.81c.8-.78.8-2.07 0-2.86zM5.41 20L4 18.59l7.72-7.72 1.47 1.35L5.41 20z\"/>\n",
              "  </svg>\n",
              "      </button>\n",
              "      \n",
              "  <style>\n",
              "    .colab-df-container {\n",
              "      display:flex;\n",
              "      flex-wrap:wrap;\n",
              "      gap: 12px;\n",
              "    }\n",
              "\n",
              "    .colab-df-convert {\n",
              "      background-color: #E8F0FE;\n",
              "      border: none;\n",
              "      border-radius: 50%;\n",
              "      cursor: pointer;\n",
              "      display: none;\n",
              "      fill: #1967D2;\n",
              "      height: 32px;\n",
              "      padding: 0 0 0 0;\n",
              "      width: 32px;\n",
              "    }\n",
              "\n",
              "    .colab-df-convert:hover {\n",
              "      background-color: #E2EBFA;\n",
              "      box-shadow: 0px 1px 2px rgba(60, 64, 67, 0.3), 0px 1px 3px 1px rgba(60, 64, 67, 0.15);\n",
              "      fill: #174EA6;\n",
              "    }\n",
              "\n",
              "    [theme=dark] .colab-df-convert {\n",
              "      background-color: #3B4455;\n",
              "      fill: #D2E3FC;\n",
              "    }\n",
              "\n",
              "    [theme=dark] .colab-df-convert:hover {\n",
              "      background-color: #434B5C;\n",
              "      box-shadow: 0px 1px 3px 1px rgba(0, 0, 0, 0.15);\n",
              "      filter: drop-shadow(0px 1px 2px rgba(0, 0, 0, 0.3));\n",
              "      fill: #FFFFFF;\n",
              "    }\n",
              "  </style>\n",
              "\n",
              "      <script>\n",
              "        const buttonEl =\n",
              "          document.querySelector('#df-1ac7883c-0e8d-4a0f-9f52-dd0ba992d4b0 button.colab-df-convert');\n",
              "        buttonEl.style.display =\n",
              "          google.colab.kernel.accessAllowed ? 'block' : 'none';\n",
              "\n",
              "        async function convertToInteractive(key) {\n",
              "          const element = document.querySelector('#df-1ac7883c-0e8d-4a0f-9f52-dd0ba992d4b0');\n",
              "          const dataTable =\n",
              "            await google.colab.kernel.invokeFunction('convertToInteractive',\n",
              "                                                     [key], {});\n",
              "          if (!dataTable) return;\n",
              "\n",
              "          const docLinkHtml = 'Like what you see? Visit the ' +\n",
              "            '<a target=\"_blank\" href=https://colab.research.google.com/notebooks/data_table.ipynb>data table notebook</a>'\n",
              "            + ' to learn more about interactive tables.';\n",
              "          element.innerHTML = '';\n",
              "          dataTable['output_type'] = 'display_data';\n",
              "          await google.colab.output.renderOutput(dataTable, element);\n",
              "          const docLink = document.createElement('div');\n",
              "          docLink.innerHTML = docLinkHtml;\n",
              "          element.appendChild(docLink);\n",
              "        }\n",
              "      </script>\n",
              "    </div>\n",
              "  </div>\n",
              "  "
            ]
          },
          "metadata": {},
          "execution_count": 23
        }
      ],
      "source": [
        "enc=OneHotEncoder()\n",
        "\n",
        "enc_data=pd.DataFrame(enc.fit_transform(df1[['AIRCRAFT','ORIGIN']]).toarray())\n",
        "  \n",
        "#Merge with main\n",
        "df1=df1.join(enc_data)\n",
        "\n",
        "df1.head()"
      ]
    },
    {
      "cell_type": "code",
      "execution_count": null,
      "metadata": {
        "id": "HP5YxS8_n3DA"
      },
      "outputs": [],
      "source": [
        "df1['ATA_MIN']=df['ATA_MIN']\n",
        "df1.drop(['AIRCRAFT','ORIGIN'],axis=1,inplace=True)\n",
        "# df1=df1.dropna()"
      ]
    },
    {
      "cell_type": "code",
      "execution_count": null,
      "metadata": {
        "id": "HEDJ6pymojiL"
      },
      "outputs": [],
      "source": [
        "X=df1.iloc[:,:-1].values\n",
        "y=df1.iloc[:,[-1]].values"
      ]
    },
    {
      "cell_type": "code",
      "execution_count": null,
      "metadata": {
        "colab": {
          "base_uri": "https://localhost:8080/"
        },
        "id": "mi9D9alwpBIs",
        "outputId": "ca8060ee-6940-4cbd-a462-a678fc4f3721"
      },
      "outputs": [
        {
          "output_type": "stream",
          "name": "stdout",
          "text": [
            "(50974, 87)\n",
            "(25108, 87)\n",
            "(50974, 1)\n",
            "(25108, 1)\n"
          ]
        }
      ],
      "source": [
        "X_train, X_test, y_train, y_test = train_test_split(X, y, test_size=0.33, random_state=42)\n",
        "print(X_train.shape)\n",
        "print(X_test.shape)\n",
        "print(y_train.shape)\n",
        "print(y_test.shape)"
      ]
    },
    {
      "cell_type": "code",
      "execution_count": null,
      "metadata": {
        "colab": {
          "base_uri": "https://localhost:8080/"
        },
        "id": "a7tPRbsYqDKK",
        "outputId": "869499fd-a294-4e4b-daab-df8507582d6d"
      },
      "outputs": [
        {
          "output_type": "execute_result",
          "data": {
            "text/plain": [
              "LinearRegression()"
            ]
          },
          "metadata": {},
          "execution_count": 27
        }
      ],
      "source": [
        "# importing module\n",
        "from sklearn.linear_model import LinearRegression\n",
        "# creating an object of LinearRegression class\n",
        "LR = LinearRegression()\n",
        "# fitting the training data\n",
        "LR.fit(X_train,y_train)\n",
        "# "
      ]
    },
    {
      "cell_type": "code",
      "execution_count": null,
      "metadata": {
        "id": "75dlbcUjqqhB"
      },
      "outputs": [],
      "source": [
        "y_prediction =  LR.predict(X_test)"
      ]
    },
    {
      "cell_type": "code",
      "execution_count": null,
      "metadata": {
        "colab": {
          "base_uri": "https://localhost:8080/"
        },
        "id": "oMBSFsicq3wA",
        "outputId": "59779d8c-ad68-4748-dc7c-56ba6f76ffca"
      },
      "outputs": [
        {
          "output_type": "stream",
          "name": "stdout",
          "text": [
            "r2 socre is  0.9999999961191951\n",
            "mean_sqrd_error is== 84.86136341539715\n",
            "root_mean_squared error of is== 9.21202276459395\n"
          ]
        }
      ],
      "source": [
        "from sklearn.metrics import r2_score\n",
        "from sklearn.metrics import mean_squared_error\n",
        "# # predicting the accuracy score\n",
        "score=r2_score(y_test,y_prediction)\n",
        "print('r2 socre is ',score)\n",
        "print('mean_sqrd_error is==',mean_squared_error(y_test,y_prediction))\n",
        "print('root_mean_squared error of is==',np.sqrt(mean_squared_error(y_test,y_prediction)))\n"
      ]
    },
    {
      "cell_type": "code",
      "source": [
        "re=pd.DataFrame(y_test,columns=['y_test'])\n",
        "# y_test\n",
        "re['y_pred']=pd.DataFrame(y_prediction)\n",
        "re['diff']=re['y_test']-re['y_pred']\n",
        "re['ORIGIN']=df['ORIGIN']\n",
        "re.to_csv('results.csv',index=False)\n",
        "re"
      ],
      "metadata": {
        "colab": {
          "base_uri": "https://localhost:8080/",
          "height": 424
        },
        "id": "WOLikjIiZhvp",
        "outputId": "8c22f94e-c63b-47cf-857d-298e720e93f8"
      },
      "execution_count": null,
      "outputs": [
        {
          "output_type": "execute_result",
          "data": {
            "text/plain": [
              "           y_test        y_pred       diff ORIGIN\n",
              "0      27734610.0  2.773461e+07  -1.226496    HYD\n",
              "1      27608035.0  2.760805e+07 -13.050718    HYD\n",
              "2      27493414.0  2.749341e+07   1.611352    HYD\n",
              "3      27407997.0  2.740799e+07   2.266305    HYD\n",
              "4      27585192.0  2.758519e+07  -0.498462    HYD\n",
              "...           ...           ...        ...    ...\n",
              "25103  27680021.0  2.768002e+07  -0.161975    HYD\n",
              "25104  27803594.0  2.780360e+07  -9.352698    HYD\n",
              "25105  27752578.0  2.775258e+07  -6.016674    HYD\n",
              "25106  27721521.0  2.772152e+07   2.639223    HYD\n",
              "25107  27708940.0  2.770894e+07   1.024639    HYD\n",
              "\n",
              "[25108 rows x 4 columns]"
            ],
            "text/html": [
              "\n",
              "  <div id=\"df-f6933d5e-0913-498f-8db4-3f4e44978271\">\n",
              "    <div class=\"colab-df-container\">\n",
              "      <div>\n",
              "<style scoped>\n",
              "    .dataframe tbody tr th:only-of-type {\n",
              "        vertical-align: middle;\n",
              "    }\n",
              "\n",
              "    .dataframe tbody tr th {\n",
              "        vertical-align: top;\n",
              "    }\n",
              "\n",
              "    .dataframe thead th {\n",
              "        text-align: right;\n",
              "    }\n",
              "</style>\n",
              "<table border=\"1\" class=\"dataframe\">\n",
              "  <thead>\n",
              "    <tr style=\"text-align: right;\">\n",
              "      <th></th>\n",
              "      <th>y_test</th>\n",
              "      <th>y_pred</th>\n",
              "      <th>diff</th>\n",
              "      <th>ORIGIN</th>\n",
              "    </tr>\n",
              "  </thead>\n",
              "  <tbody>\n",
              "    <tr>\n",
              "      <th>0</th>\n",
              "      <td>27734610.0</td>\n",
              "      <td>2.773461e+07</td>\n",
              "      <td>-1.226496</td>\n",
              "      <td>HYD</td>\n",
              "    </tr>\n",
              "    <tr>\n",
              "      <th>1</th>\n",
              "      <td>27608035.0</td>\n",
              "      <td>2.760805e+07</td>\n",
              "      <td>-13.050718</td>\n",
              "      <td>HYD</td>\n",
              "    </tr>\n",
              "    <tr>\n",
              "      <th>2</th>\n",
              "      <td>27493414.0</td>\n",
              "      <td>2.749341e+07</td>\n",
              "      <td>1.611352</td>\n",
              "      <td>HYD</td>\n",
              "    </tr>\n",
              "    <tr>\n",
              "      <th>3</th>\n",
              "      <td>27407997.0</td>\n",
              "      <td>2.740799e+07</td>\n",
              "      <td>2.266305</td>\n",
              "      <td>HYD</td>\n",
              "    </tr>\n",
              "    <tr>\n",
              "      <th>4</th>\n",
              "      <td>27585192.0</td>\n",
              "      <td>2.758519e+07</td>\n",
              "      <td>-0.498462</td>\n",
              "      <td>HYD</td>\n",
              "    </tr>\n",
              "    <tr>\n",
              "      <th>...</th>\n",
              "      <td>...</td>\n",
              "      <td>...</td>\n",
              "      <td>...</td>\n",
              "      <td>...</td>\n",
              "    </tr>\n",
              "    <tr>\n",
              "      <th>25103</th>\n",
              "      <td>27680021.0</td>\n",
              "      <td>2.768002e+07</td>\n",
              "      <td>-0.161975</td>\n",
              "      <td>HYD</td>\n",
              "    </tr>\n",
              "    <tr>\n",
              "      <th>25104</th>\n",
              "      <td>27803594.0</td>\n",
              "      <td>2.780360e+07</td>\n",
              "      <td>-9.352698</td>\n",
              "      <td>HYD</td>\n",
              "    </tr>\n",
              "    <tr>\n",
              "      <th>25105</th>\n",
              "      <td>27752578.0</td>\n",
              "      <td>2.775258e+07</td>\n",
              "      <td>-6.016674</td>\n",
              "      <td>HYD</td>\n",
              "    </tr>\n",
              "    <tr>\n",
              "      <th>25106</th>\n",
              "      <td>27721521.0</td>\n",
              "      <td>2.772152e+07</td>\n",
              "      <td>2.639223</td>\n",
              "      <td>HYD</td>\n",
              "    </tr>\n",
              "    <tr>\n",
              "      <th>25107</th>\n",
              "      <td>27708940.0</td>\n",
              "      <td>2.770894e+07</td>\n",
              "      <td>1.024639</td>\n",
              "      <td>HYD</td>\n",
              "    </tr>\n",
              "  </tbody>\n",
              "</table>\n",
              "<p>25108 rows × 4 columns</p>\n",
              "</div>\n",
              "      <button class=\"colab-df-convert\" onclick=\"convertToInteractive('df-f6933d5e-0913-498f-8db4-3f4e44978271')\"\n",
              "              title=\"Convert this dataframe to an interactive table.\"\n",
              "              style=\"display:none;\">\n",
              "        \n",
              "  <svg xmlns=\"http://www.w3.org/2000/svg\" height=\"24px\"viewBox=\"0 0 24 24\"\n",
              "       width=\"24px\">\n",
              "    <path d=\"M0 0h24v24H0V0z\" fill=\"none\"/>\n",
              "    <path d=\"M18.56 5.44l.94 2.06.94-2.06 2.06-.94-2.06-.94-.94-2.06-.94 2.06-2.06.94zm-11 1L8.5 8.5l.94-2.06 2.06-.94-2.06-.94L8.5 2.5l-.94 2.06-2.06.94zm10 10l.94 2.06.94-2.06 2.06-.94-2.06-.94-.94-2.06-.94 2.06-2.06.94z\"/><path d=\"M17.41 7.96l-1.37-1.37c-.4-.4-.92-.59-1.43-.59-.52 0-1.04.2-1.43.59L10.3 9.45l-7.72 7.72c-.78.78-.78 2.05 0 2.83L4 21.41c.39.39.9.59 1.41.59.51 0 1.02-.2 1.41-.59l7.78-7.78 2.81-2.81c.8-.78.8-2.07 0-2.86zM5.41 20L4 18.59l7.72-7.72 1.47 1.35L5.41 20z\"/>\n",
              "  </svg>\n",
              "      </button>\n",
              "      \n",
              "  <style>\n",
              "    .colab-df-container {\n",
              "      display:flex;\n",
              "      flex-wrap:wrap;\n",
              "      gap: 12px;\n",
              "    }\n",
              "\n",
              "    .colab-df-convert {\n",
              "      background-color: #E8F0FE;\n",
              "      border: none;\n",
              "      border-radius: 50%;\n",
              "      cursor: pointer;\n",
              "      display: none;\n",
              "      fill: #1967D2;\n",
              "      height: 32px;\n",
              "      padding: 0 0 0 0;\n",
              "      width: 32px;\n",
              "    }\n",
              "\n",
              "    .colab-df-convert:hover {\n",
              "      background-color: #E2EBFA;\n",
              "      box-shadow: 0px 1px 2px rgba(60, 64, 67, 0.3), 0px 1px 3px 1px rgba(60, 64, 67, 0.15);\n",
              "      fill: #174EA6;\n",
              "    }\n",
              "\n",
              "    [theme=dark] .colab-df-convert {\n",
              "      background-color: #3B4455;\n",
              "      fill: #D2E3FC;\n",
              "    }\n",
              "\n",
              "    [theme=dark] .colab-df-convert:hover {\n",
              "      background-color: #434B5C;\n",
              "      box-shadow: 0px 1px 3px 1px rgba(0, 0, 0, 0.15);\n",
              "      filter: drop-shadow(0px 1px 2px rgba(0, 0, 0, 0.3));\n",
              "      fill: #FFFFFF;\n",
              "    }\n",
              "  </style>\n",
              "\n",
              "      <script>\n",
              "        const buttonEl =\n",
              "          document.querySelector('#df-f6933d5e-0913-498f-8db4-3f4e44978271 button.colab-df-convert');\n",
              "        buttonEl.style.display =\n",
              "          google.colab.kernel.accessAllowed ? 'block' : 'none';\n",
              "\n",
              "        async function convertToInteractive(key) {\n",
              "          const element = document.querySelector('#df-f6933d5e-0913-498f-8db4-3f4e44978271');\n",
              "          const dataTable =\n",
              "            await google.colab.kernel.invokeFunction('convertToInteractive',\n",
              "                                                     [key], {});\n",
              "          if (!dataTable) return;\n",
              "\n",
              "          const docLinkHtml = 'Like what you see? Visit the ' +\n",
              "            '<a target=\"_blank\" href=https://colab.research.google.com/notebooks/data_table.ipynb>data table notebook</a>'\n",
              "            + ' to learn more about interactive tables.';\n",
              "          element.innerHTML = '';\n",
              "          dataTable['output_type'] = 'display_data';\n",
              "          await google.colab.output.renderOutput(dataTable, element);\n",
              "          const docLink = document.createElement('div');\n",
              "          docLink.innerHTML = docLinkHtml;\n",
              "          element.appendChild(docLink);\n",
              "        }\n",
              "      </script>\n",
              "    </div>\n",
              "  </div>\n",
              "  "
            ]
          },
          "metadata": {},
          "execution_count": 30
        }
      ]
    },
    {
      "cell_type": "code",
      "source": [
        "plt.plot(y_test,y_prediction)\n",
        "re.info()"
      ],
      "metadata": {
        "colab": {
          "base_uri": "https://localhost:8080/",
          "height": 480
        },
        "id": "FvvAGsLZhyZJ",
        "outputId": "1ef2d1da-d230-4806-f018-61100d4aa05c"
      },
      "execution_count": null,
      "outputs": [
        {
          "output_type": "stream",
          "name": "stdout",
          "text": [
            "<class 'pandas.core.frame.DataFrame'>\n",
            "RangeIndex: 25108 entries, 0 to 25107\n",
            "Data columns (total 4 columns):\n",
            " #   Column  Non-Null Count  Dtype  \n",
            "---  ------  --------------  -----  \n",
            " 0   y_test  25108 non-null  float64\n",
            " 1   y_pred  25108 non-null  float64\n",
            " 2   diff    25108 non-null  float64\n",
            " 3   ORIGIN  25108 non-null  object \n",
            "dtypes: float64(3), object(1)\n",
            "memory usage: 784.8+ KB\n"
          ]
        },
        {
          "output_type": "display_data",
          "data": {
            "text/plain": [
              "<Figure size 432x288 with 1 Axes>"
            ],
            "image/png": "[encoded data removed]"
          },
          "metadata": {
            "needs_background": "light"
          }
        }
      ]
    },
    {
      "cell_type": "code",
      "execution_count": null,
      "metadata": {
        "id": "DQdusgLarqVO"
      },
      "outputs": [],
      "source": [
        "# # from sklearnex import patch_sklearn \n",
        "# # patch_sklearn()\n",
        "# from sklearn.svm import SVR\n",
        "# svr=SVR()\n",
        "# svr.fit(X_train,y_train)"
      ]
    },
    {
      "cell_type": "code",
      "execution_count": null,
      "metadata": {
        "id": "j94zVmSytUCi"
      },
      "outputs": [],
      "source": [
        "# y_pred=svr.predict(X_test)"
      ]
    },
    {
      "cell_type": "code",
      "execution_count": null,
      "metadata": {
        "id": "jDYmaFmfuw2v"
      },
      "outputs": [],
      "source": [
        "# from sklearn.preprocessing import StandardScaler\n",
        "# sc_X = StandardScaler()\n",
        "# sc_y = StandardScaler()\n",
        "# X1 = sc_X.fit_transform(X)\n",
        "# # y=y.reshape(-1,1)\n",
        "# # y1 = sc_y.fit_transform(y)\n",
        "# X_train, X_test, y_train, y_test = train_test_split(X1, y, test_size=0.33, random_state=42)\n",
        "# #4 Fitting the Support Vector Regression Model to the dataset\n",
        "# # Create your support vector regressor here\n",
        "# from sklearn.svm import SVR\n",
        "# # most important SVR parameter is Kernel type. It can be #linear,polynomial or gaussian SVR. We have a non-linear condition #so we can select polynomial or gaussian but here we select RBF(a #gaussian type) kernel.\n",
        "# regressor = SVR(kernel='rbf')\n",
        "# regressor.fit(X_train,y_train)\n",
        "# #5 Predicting a new result\n",
        "# y_pred = regressor.predict(X_test)"
      ]
    },
    {
      "cell_type": "code",
      "execution_count": null,
      "metadata": {
        "id": "_eISMlOw16QQ"
      },
      "outputs": [],
      "source": [
        "# from sklearn import svm\n",
        "# clf = svm.SVC()\n",
        "# clf.fit(X_train,y_train)\n",
        "# y_pred=clf.predict(X_test)"
      ]
    },
    {
      "cell_type": "code",
      "execution_count": null,
      "metadata": {
        "colab": {
          "base_uri": "https://localhost:8080/"
        },
        "id": "I74ao_Qe8qqn",
        "outputId": "0921f329-e26d-4275-df45-4e82c8da0e5b"
      },
      "outputs": [
        {
          "output_type": "stream",
          "name": "stderr",
          "text": [
            "/usr/local/lib/python3.8/dist-packages/sklearn/utils/validation.py:993: DataConversionWarning: A column-vector y was passed when a 1d array was expected. Please change the shape of y to (n_samples, ), for example using ravel().\n",
            "  y = column_or_1d(y, warn=True)\n"
          ]
        }
      ],
      "source": [
        "from sklearn.tree import DecisionTreeRegressor\n",
        "\n",
        "tree = AdaBoostRegressor(DecisionTreeRegressor(max_depth=100), n_estimators=500,random_state=42)\n",
        "tree.fit(X_train,y_train)\n",
        "y_pred = tree.predict(X_test)"
      ]
    },
    {
      "cell_type": "code",
      "execution_count": null,
      "metadata": {
        "id": "ti6IYtsKtkGY",
        "colab": {
          "base_uri": "https://localhost:8080/"
        },
        "outputId": "1b3493ea-adb5-418c-ae6c-fd685c5a9a48"
      },
      "outputs": [
        {
          "output_type": "stream",
          "name": "stdout",
          "text": [
            "r2 score is  0.9999998748441116\n",
            "mean_sqrd_error is== 2736.777437972908\n",
            "root_mean_squared error of is== 52.314218315606205\n"
          ]
        }
      ],
      "source": [
        "score=r2_score(y_test,y_pred)\n",
        "print('r2 score is ',score)\n",
        "print('mean_sqrd_error is==',mean_squared_error(y_test,y_pred))\n",
        "print('root_mean_squared error of is==',np.sqrt(mean_squared_error(y_test,y_pred)))"
      ]
    },
    {
      "cell_type": "code",
      "execution_count": null,
      "metadata": {
        "id": "Ek2sEwfK9tRj",
        "colab": {
          "base_uri": "https://localhost:8080/"
        },
        "outputId": "8963a618-61c4-4cdd-a2c5-3043c1fdd8f8"
      },
      "outputs": [
        {
          "output_type": "stream",
          "name": "stderr",
          "text": [
            "<ipython-input-38-0d554b7cb4f6>:4: DataConversionWarning: A column-vector y was passed when a 1d array was expected. Please change the shape of y to (n_samples,), for example using ravel().\n",
            "  forest.fit(X_train,y_train)\n",
            "/usr/local/lib/python3.8/dist-packages/sklearn/ensemble/_forest.py:396: FutureWarning: Criterion 'mse' was deprecated in v1.0 and will be removed in version 1.2. Use `criterion='squared_error'` which is equivalent.\n",
            "  warn(\n"
          ]
        }
      ],
      "source": [
        "from sklearn.ensemble import RandomForestRegressor\n",
        "\n",
        "forest = RandomForestRegressor(n_estimators=500,max_depth=500,criterion=\"mse\")\n",
        "forest.fit(X_train,y_train)\n",
        "y_pred = forest.predict(X_test)"
      ]
    },
    {
      "cell_type": "code",
      "execution_count": null,
      "metadata": {
        "id": "XheIh4vi7dpc",
        "colab": {
          "base_uri": "https://localhost:8080/"
        },
        "outputId": "cf2d488c-6438-4b03-93f0-b0b662000de6"
      },
      "outputs": [
        {
          "output_type": "stream",
          "name": "stdout",
          "text": [
            "r2 score is  0.9999998950532459\n",
            "mean_sqrd_error is== 2294.8653267768123\n",
            "root_mean_squared error of is== 47.90475265333088\n"
          ]
        }
      ],
      "source": [
        "score=r2_score(y_test,y_pred)\n",
        "print('r2 score is ',score)\n",
        "print('mean_sqrd_error is==',mean_squared_error(y_test,y_pred))\n",
        "print('root_mean_squared error of is==',np.sqrt(mean_squared_error(y_test,y_pred)))"
      ]
    },
    {
      "cell_type": "code",
      "execution_count": null,
      "metadata": {
        "id": "r31eghMu-1vx",
        "colab": {
          "base_uri": "https://localhost:8080/"
        },
        "outputId": "2a84bb5e-2f35-4d2b-830f-84d2e5c048f2"
      },
      "outputs": [
        {
          "output_type": "stream",
          "name": "stderr",
          "text": [
            "/usr/local/lib/python3.8/dist-packages/sklearn/utils/validation.py:993: DataConversionWarning: A column-vector y was passed when a 1d array was expected. Please change the shape of y to (n_samples, ), for example using ravel().\n",
            "  y = column_or_1d(y, warn=True)\n"
          ]
        }
      ],
      "source": [
        "from sklearn import linear_model\n",
        "reg = linear_model.BayesianRidge()\n",
        "reg.fit(X_train,y_train)\n",
        "y_pred = reg.predict(X_test)"
      ]
    },
    {
      "cell_type": "code",
      "execution_count": null,
      "metadata": {
        "id": "nTIdGvB5-OJl",
        "colab": {
          "base_uri": "https://localhost:8080/"
        },
        "outputId": "ac07cdfd-9a76-4a86-a270-02ceb0b1c907"
      },
      "outputs": [
        {
          "output_type": "stream",
          "name": "stdout",
          "text": [
            "r2 score is  0.9999999961220456\n",
            "mean_sqrd_error is== 84.79903131159539\n",
            "root_mean_squared error of is== 9.208638950007508\n"
          ]
        }
      ],
      "source": [
        "score=r2_score(y_test,y_pred)\n",
        "print('r2 score is ',score)\n",
        "print('mean_sqrd_error is==',mean_squared_error(y_test,y_pred))\n",
        "print('root_mean_squared error of is==',np.sqrt(mean_squared_error(y_test,y_pred)))"
      ]
    },
    {
      "cell_type": "code",
      "execution_count": null,
      "metadata": {
        "id": "kyawFBiO_BjD"
      },
      "outputs": [],
      "source": [
        "from sklearn.preprocessing import StandardScaler\n",
        "sc_x = StandardScaler()\n",
        "X = sc_x.fit_transform(X)\n",
        "sc_y = StandardScaler()\n",
        "y = sc_y.fit_transform(y.reshape(-1,1))\n",
        "# X"
      ]
    },
    {
      "cell_type": "code",
      "source": [
        "X_train, X_test, y_train, y_test = train_test_split(X, y, test_size=0.33, random_state=42)\n",
        "print(X_train.shape)\n",
        "print(X_test.shape)\n",
        "print(y_train.shape)\n",
        "print(y_test.shape)"
      ],
      "metadata": {
        "colab": {
          "base_uri": "https://localhost:8080/"
        },
        "id": "_CjxQ5LqjzVu",
        "outputId": "60442658-8ce7-462a-f4c2-ecadd79d33e8"
      },
      "execution_count": null,
      "outputs": [
        {
          "output_type": "stream",
          "name": "stdout",
          "text": [
            "(51534, 114)\n",
            "(25383, 114)\n",
            "(51534, 1)\n",
            "(25383, 1)\n"
          ]
        }
      ]
    },
    {
      "cell_type": "code",
      "execution_count": null,
      "metadata": {
        "colab": {
          "base_uri": "https://localhost:8080/"
        },
        "id": "QehVDOHpkqhN",
        "outputId": "914f8af7-ca97-48c1-dcb2-add6acb0d3ae"
      },
      "outputs": [
        {
          "output_type": "stream",
          "name": "stderr",
          "text": [
            "/usr/local/lib/python3.8/dist-packages/sklearn/utils/validation.py:993: DataConversionWarning: A column-vector y was passed when a 1d array was expected. Please change the shape of y to (n_samples, ), for example using ravel().\n",
            "  y = column_or_1d(y, warn=True)\n"
          ]
        }
      ],
      "source": [
        "from sklearn import svm\n",
        "from sklearn.ensemble import AdaBoostClassifier\n",
        "clf = svm.SVR(kernel='rbf')\n",
        "abc = AdaBoostRegressor(n_estimators=500,base_estimator=clf,learning_rate=1)\n",
        "# Train Adaboost Classifer\n",
        "model = abc.fit(X_train, y_train)\n",
        "#Predict the response for test dataset\n",
        "y_pred = model.predict(X_test)\n",
        "# clf.fit(X_train,y_train)\n",
        "# y_pred=clf.predict(X_test)"
      ]
    },
    {
      "cell_type": "code",
      "execution_count": null,
      "metadata": {
        "id": "c4cwJeCmk4Dk",
        "colab": {
          "base_uri": "https://localhost:8080/"
        },
        "outputId": "e20306e3-6e10-4e33-bee0-3d3127b6dc65"
      },
      "outputs": [
        {
          "output_type": "stream",
          "name": "stdout",
          "text": [
            "r2 score is  0.9963509453895333\n",
            "mean_sqrd_error is== 0.003683520485262629\n",
            "root_mean_squared error of is== 0.060692013356475734\n"
          ]
        }
      ],
      "source": [
        "from sklearn.metrics import r2_score\n",
        "from sklearn.metrics import mean_squared_error\n",
        "score=r2_score(y_test,y_pred)\n",
        "print('r2 score is ',score)\n",
        "print('mean_sqrd_error is==',mean_squared_error(y_test,y_pred))\n",
        "print('root_mean_squared error of is==',np.sqrt(mean_squared_error(y_test,y_pred)))"
      ]
    },
    {
      "cell_type": "code",
      "source": [],
      "metadata": {
        "id": "72ZTrJVHcrh0"
      },
      "execution_count": null,
      "outputs": []
    }
  ],
  "metadata": {
    "colab": {
      "provenance": []
    },
    "kernelspec": {
      "display_name": "Python 3",
      "name": "python3"
    },
    "language_info": {
      "name": "python"
    }
  },
  "nbformat": 4,
  "nbformat_minor": 0
}